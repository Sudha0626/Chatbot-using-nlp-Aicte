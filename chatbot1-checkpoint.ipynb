{
 "cells": [
  {
   "cell_type": "code",
   "execution_count": null,
   "id": "4bfd27ce-cebc-422c-9203-89f769fff0f0",
   "metadata": {},
   "outputs": [
    {
     "name": "stderr",
     "output_type": "stream",
     "text": [
      "[nltk_data] Downloading package punkt to\n",
      "[nltk_data]     C:\\Users\\HOME\\AppData\\Roaming\\nltk_data...\n",
      "[nltk_data]   Package punkt is already up-to-date!\n"
     ]
    }
   ],
   "source": [
    "# Importing necessary libraries\n",
    "import nltk\n",
    "import random\n",
    "import os\n",
    "import ssl\n",
    "import streamlit as st\n",
    "from sklearn.feature_extraction.text import TfidfVectorizer\n",
    "from sklearn.linear_model import LogisticRegression\n",
    "\n",
    "# Fix SSL certificate issue\n",
    "ssl._create_default_https_context = ssl._create_unverified_context\n",
    "\n",
    "# Set up NLTK data path\n",
    "nltk.data.path.append(os.path.abspath('nltk_data'))\n",
    "nltk.download('punkt')\n",
    "\n",
    "# Define intents\n",
    "intents = [\n",
    "    {\n",
    "        'tag': 'greeting',\n",
    "        'patterns': ['Hi', 'Hello', 'Hey', 'Whats up', 'How are you'],\n",
    "        'responses': ['Hi there', 'Hello', 'Hey', 'Nothing much', \"I'm fine, thank you\"]\n",
    "    },\n",
    "    {\n",
    "        'tag': 'goodbye',\n",
    "        'patterns': ['Bye', 'See you later', 'Goodbye', 'Take care'],\n",
    "        'responses': ['Goodbye', 'See you later', 'Take care']\n",
    "    },\n",
    "    {\n",
    "        'tag': 'thanks',\n",
    "        'patterns': ['Thank you', 'Thanks', 'Thanks a lot', 'I appreciate it'],\n",
    "        'responses': [\"You're welcome\", 'No problem', 'Glad I could help']\n",
    "    },\n",
    "    {\n",
    "        'tag': 'about',\n",
    "        'patterns': ['What can you do', 'Who are you', 'What are you', 'What is your purpose'],\n",
    "        'responses': [\"I am a chatbot\", \"My purpose is to assist you\", \"I can answer questions and provide assistance\"]\n",
    "    },\n",
    "    {\n",
    "        'tag': 'help',\n",
    "        'patterns': ['Help', 'I need help', 'Can you help me', 'What should I do'],\n",
    "        'responses': [\"Sure, what do you need help with?\", \"I'm here to help. What's the problem?\", \"How can I assist you?\"]\n",
    "    },\n",
    "    {\n",
    "        'tag': 'age',\n",
    "        'patterns': ['How old are you', \"What's your age\"],\n",
    "        'responses': [\"I don't have an age. I'm a chatbot.\", \"I was just born in the digital world.\", \"Age is just a number for me.\"]\n",
    "    },\n",
    "    {\n",
    "        'tag': 'weather',\n",
    "        'patterns': [\"What's the weather like\", \"How's the weather today\"],\n",
    "        'responses': [\"I'm sorry, I cannot provide real-time weather information.\", \"You can check the weather on a weather app or website.\"]\n",
    "    },\n",
    "    {\n",
    "        'tag': 'budget',\n",
    "        'patterns': [\"How can I make a budget\", \"What's a good budgeting strategy\", \"How do I create a budget\"],\n",
    "        'responses': [\n",
    "            \"To make a budget, start by tracking your income and expenses. Then, allocate your income towards essential expenses like rent, food, and bills. Next, allocate some of your income towards savings and debt repayment. Finally, allocate the remainder of your income towards discretionary expenses like entertainment and hobbies.\",\n",
    "            \"A good budgeting strategy is to use the 50/30/20 rule. This means allocating 50% of your income towards essential expenses, 30% towards discretionary expenses, and 20% towards savings and debt repayment.\",\n",
    "            \"To create a budget, start by setting financial goals for yourself. Then, track your income and expenses for a few months to get a sense of where your money is going. Next, create a budget by allocating your income towards essential expenses, savings and debt repayment, and discretionary expenses.\"\n",
    "        ]\n",
    "    },\n",
    "    {\n",
    "        'tag': 'credit_score',\n",
    "        'patterns': [\"What is a credit score\", \"How do I check my credit score\", \"How can I improve my credit score\"],\n",
    "        'responses': [\n",
    "            \"A credit score is a number that represents your creditworthiness. It is based on your credit history and is used by lenders to determine whether or not to lend you money. The higher your credit score, the more likely you are to be approved for credit.\",\n",
    "            \"You can check your credit score for free on several websites such as Credit Karma and Credit Sesame.\"\n",
    "        ]\n",
    "    }\n",
    "]\n",
     # Preprocessing
     def preprocess_text(text):
         text = text.lower()  # Convert to lowercase
         text = text.translate(str.maketrans("", "", string.punctuation))  # Remove punctuation
         tokens = word_tokenize(text)  # Tokenize text
         filtered_tokens = [word for word in tokens if word not in stopwords.words("english")]  # Remove stopwords
         return filtered_tokens
    "# Function to get response\n",
    "def get_response(user_input):\n",
    "    user_input = user_input.lower()\n",
    "    for intent in intents:\n",
    "        for pattern in intent['patterns']:\n",
    "            if pattern.lower() in user_input:  # Simple pattern matching\n",
    "                return random.choice(intent['responses'])\n",
    "    return \"I'm not sure how to respond to that.\"\n",
    "\n",
    "# Run chatbot\n",
    "while True:\n",
    "    user_input = input(\"You: \")\n",
    "    if user_input.lower() in [\"exit\", \"quit\", \"bye\"]:\n",
    "        print(\"Bot: Goodbye!\")\n",
    "        break\n",
    "    response = get_response(user_input)\n",
    "    print(f\"Bot: {response}\")"
   ]
  }
 ],
 "metadata": {
  "kernelspec": {
   "display_name": "Python 3 (ipykernel)",
   "language": "python",
   "name": "python3"
  },
  "language_info": {
   "codemirror_mode": {
    "name": "ipython",
    "version": 3
   },
   "file_extension": ".py",
   "mimetype": "text/x-python",
   "name": "python",
   "nbconvert_exporter": "python",
   "pygments_lexer": "ipython3",
   "version": "3.11.6"
  }
 },
 "nbformat": 4,
 "nbformat_minor": 5
}
